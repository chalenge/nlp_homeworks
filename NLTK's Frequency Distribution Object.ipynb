{
 "metadata": {
  "name": "",
  "signature": "sha256:9c5f90ad4dd43a49a7464d467b6b1fc6d6af61dec5d6479bbe58ef40b08a0bdc"
 },
 "nbformat": 3,
 "nbformat_minor": 0,
 "worksheets": [
  {
   "cells": [
    {
     "cell_type": "markdown",
     "metadata": {},
     "source": [
      "#Introduction\n",
      "\n",
      "(Be sure to start this notebook with the command \"ipython notebook --pylab inline\".)\n",
      "\n",
      "Section 1.1 of the NLTK book describes some pre-loaded books and pre-defined functions that come with them.  Section 1.2 reviews fundamental concepts ab\u00dfout python lists and strings -- if you need to brush up on these concepts, then study this subsection carefully.  Be sure you know the difference between a *set* and a *list* and that you can work easily with python slices.\n",
      "\n",
      "The part that I am most interested in having you focus on is Section 1.3, which introduces NLTK's frequency distribution data structure.  You need to have the books loaded and accessible from section 1.1 for this part to work.\n",
      "\n",
      "##NLTK's Frequency Distribution Object\n",
      "\n",
      "This data structure makes it easy to tally up frequencies across words and other items, and incorporate them into list comprehensions (and later we'll see the conditional frequency distribution as well).\n",
      "\n",
      "The code below counts up all of the words in *Monty Python and the Holy Grail* (text6 in the nltk.book collection) and the final line shows the top 50 most frequent."
     ]
    },
    {
     "cell_type": "code",
     "collapsed": false,
     "input": [
      "%matplotlib inline\n",
      "\n",
      "import string\n",
      "import nltk\n",
      "from nltk.book import *        # loads in pre-defined texts\n",
      "\n",
      "mp_freqdist = FreqDist(text6)  # compute the frequency distribution\n",
      "mp_freqdist.items()[:50]       # show the top 50 (word, frequency) pairs"
     ],
     "language": "python",
     "metadata": {},
     "outputs": [
      {
       "metadata": {},
       "output_type": "pyout",
       "prompt_number": 2,
       "text": [
        "[(':', 1197),\n",
        " ('.', 816),\n",
        " ('!', 801),\n",
        " (',', 731),\n",
        " (\"'\", 421),\n",
        " ('[', 319),\n",
        " (']', 312),\n",
        " ('the', 299),\n",
        " ('I', 255),\n",
        " ('ARTHUR', 225),\n",
        " ('?', 207),\n",
        " ('you', 204),\n",
        " ('a', 188),\n",
        " ('of', 158),\n",
        " ('--', 148),\n",
        " ('to', 144),\n",
        " ('s', 141),\n",
        " ('and', 135),\n",
        " ('#', 127),\n",
        " ('...', 118),\n",
        " ('Oh', 110),\n",
        " ('it', 107),\n",
        " ('is', 106),\n",
        " ('-', 88),\n",
        " ('in', 86),\n",
        " ('that', 84),\n",
        " ('t', 77),\n",
        " ('1', 76),\n",
        " ('LAUNCELOT', 76),\n",
        " ('No', 76),\n",
        " ('your', 75),\n",
        " ('not', 70),\n",
        " ('GALAHAD', 69),\n",
        " ('KNIGHT', 68),\n",
        " ('What', 65),\n",
        " ('FATHER', 63),\n",
        " ('we', 62),\n",
        " ('BEDEVERE', 61),\n",
        " ('You', 61),\n",
        " ('We', 60),\n",
        " ('this', 59),\n",
        " ('no', 55),\n",
        " ('HEAD', 54),\n",
        " ('Well', 54),\n",
        " ('GUARD', 53),\n",
        " ('have', 53),\n",
        " ('Sir', 52),\n",
        " ('are', 52),\n",
        " ('A', 50),\n",
        " ('And', 50)]"
       ]
      }
     ],
     "prompt_number": 2
    },
    {
     "cell_type": "markdown",
     "metadata": {},
     "source": [
      "**Task 1** Wow, those are some weird results.  It might make some sense to look at the actual text itself.  In the line below, write a line of code that pulls out the first 500 words of the text and shows them to you (hint: the text object is simply a list of strings)."
     ]
    },
    {
     "cell_type": "code",
     "collapsed": false,
     "input": [
      "# Create a string object with the first 500 words of the text by joining list objects\n",
      "first_500 = ' '.join(text6[:500])\n",
      "\n",
      "# Show the first 500 words extracted\n",
      "first_500"
     ],
     "language": "python",
     "metadata": {},
     "outputs": [
      {
       "metadata": {},
       "output_type": "pyout",
       "prompt_number": 3,
       "text": [
        "\"SCENE 1 : [ wind ] [ clop clop clop ] KING ARTHUR : Whoa there ! [ clop clop clop ] SOLDIER # 1 : Halt ! Who goes there ? ARTHUR : It is I , Arthur , son of Uther Pendragon , from the castle of Camelot . King of the Britons , defeator of the Saxons , sovereign of all England ! SOLDIER # 1 : Pull the other one ! ARTHUR : I am , ... and this is my trusty servant Patsy . We have ridden the length and breadth of the land in search of knights who will join me in my court at Camelot . I must speak with your lord and master . SOLDIER # 1 : What ? Ridden on a horse ? ARTHUR : Yes ! SOLDIER # 1 : You ' re using coconuts ! ARTHUR : What ? SOLDIER # 1 : You ' ve got two empty halves of coconut and you ' re bangin ' ' em together . ARTHUR : So ? We have ridden since the snows of winter covered this land , through the kingdom of Mercea , through -- SOLDIER # 1 : Where ' d you get the coconuts ? ARTHUR : We found them . SOLDIER # 1 : Found them ? In Mercea ? The coconut ' s tropical ! ARTHUR : What do you mean ? SOLDIER # 1 : Well , this is a temperate zone . ARTHUR : The swallow may fly south with the sun or the house martin or the plover may seek warmer climes in winter , yet these are not strangers to our land ? SOLDIER # 1 : Are you suggesting coconuts migrate ? ARTHUR : Not at all . They could be carried . SOLDIER # 1 : What ? A swallow carrying a coconut ? ARTHUR : It could grip it by the husk ! SOLDIER # 1 : It ' s not a question of where he grips it ! It ' s a simple question of weight ratios ! A five ounce bird could not carry a one pound coconut . ARTHUR : Well , it doesn ' t matter . Will you go and tell your master that Arthur from the Court of Camelot is here . SOLDIER # 1 : Listen . In order to maintain air - speed velocity , a swallow needs to beat its wings forty - three times every second , right ? ARTHUR : Please ! SOLDIER # 1 : Am I right ? ARTHUR : I ' m not interested ! SOLDIER # 2 : It could be carried by an African swallow ! SOLDIER # 1 : Oh , yeah , an African swallow maybe , but not a European swallow . That ' s my point . SOLDIER # 2 : Oh , yeah , I agree with that . ARTHUR : Will you ask your\""
       ]
      }
     ],
     "prompt_number": 3
    },
    {
     "cell_type": "markdown",
     "metadata": {},
     "source": [
      "**Task 2** Now that you've looked at the text, what are two reasons for these strange results?\n",
      "\n",
      "* Answer 1: The text includes a lot of puncutuation marks and numbers which are treated as separate words in their own right and thus counted by the frequenncy distribution algorithm.\n",
      "* Answer 2: The text is in a dialog/conversation form thus names of the actors are repeated at almost every line. Unimportant characters such as soldiers have numbers to differentiate them which has made some numbers such as '1' and '2' appear more."
     ]
    },
    {
     "cell_type": "markdown",
     "metadata": {},
     "source": [
      "**Task 3** Address one of the problems by modifying the text of Monty Python and rerunning the frequency distribution calculation.  In the box below write your code to modify the text:"
     ]
    },
    {
     "cell_type": "code",
     "collapsed": false,
     "input": [
      "# Remove all punctuation from the text\n",
      "new_text6 = ' '.join(text6).translate(None, string.punctuation).split()\n",
      "\n",
      "# Remove numbers that are added to identify some actors\n",
      "new_text6 = ' '.join(new_text6).translate(None, string.digits).split()\n",
      "\n",
      "# Compute the new frequency distribution\n",
      "new_mp_freqdist = FreqDist(new_text6) "
     ],
     "language": "python",
     "metadata": {},
     "outputs": [],
     "prompt_number": 4
    },
    {
     "cell_type": "markdown",
     "metadata": {},
     "source": [
      "**Task 4** In the box below, show the output after applying this version of the text to a FreqDist."
     ]
    },
    {
     "cell_type": "code",
     "collapsed": false,
     "input": [
      "# Show the new top 50 (word, frequency) pairs\n",
      "new_mp_freqdist.items()[:50]"
     ],
     "language": "python",
     "metadata": {},
     "outputs": [
      {
       "metadata": {},
       "output_type": "pyout",
       "prompt_number": 5,
       "text": [
        "[('the', 299),\n",
        " ('I', 255),\n",
        " ('ARTHUR', 225),\n",
        " ('you', 204),\n",
        " ('a', 188),\n",
        " ('of', 158),\n",
        " ('to', 144),\n",
        " ('s', 141),\n",
        " ('and', 135),\n",
        " ('Oh', 110),\n",
        " ('it', 107),\n",
        " ('is', 106),\n",
        " ('in', 86),\n",
        " ('that', 84),\n",
        " ('t', 77),\n",
        " ('LAUNCELOT', 76),\n",
        " ('No', 76),\n",
        " ('your', 75),\n",
        " ('not', 70),\n",
        " ('GALAHAD', 69),\n",
        " ('KNIGHT', 68),\n",
        " ('What', 65),\n",
        " ('FATHER', 63),\n",
        " ('we', 62),\n",
        " ('BEDEVERE', 61),\n",
        " ('You', 61),\n",
        " ('We', 60),\n",
        " ('this', 59),\n",
        " ('no', 55),\n",
        " ('HEAD', 54),\n",
        " ('Well', 54),\n",
        " ('GUARD', 53),\n",
        " ('have', 53),\n",
        " ('Sir', 52),\n",
        " ('are', 52),\n",
        " ('A', 50),\n",
        " ('And', 50),\n",
        " ('Ni', 47),\n",
        " ('VILLAGER', 47),\n",
        " ('on', 47),\n",
        " ('He', 46),\n",
        " ('me', 46),\n",
        " ('boom', 45),\n",
        " ('be', 43),\n",
        " ('he', 43),\n",
        " ('Yes', 42),\n",
        " ('ha', 42),\n",
        " ('re', 41),\n",
        " ('her', 40),\n",
        " ('ROBIN', 39)]"
       ]
      }
     ],
     "prompt_number": 5
    },
    {
     "cell_type": "markdown",
     "metadata": {},
     "source": [
      "**Task 5** How if at all has the output changed?\n",
      "\n",
      "*Answer: There are a lot more words shown now, though some single characters such as 't' remain"
     ]
    },
    {
     "cell_type": "markdown",
     "metadata": {},
     "source": [
      "**Task 6** Following the example from the book, show a cumulative frequency plot for the words in Monty Python as newly computed, in the box below."
     ]
    },
    {
     "cell_type": "code",
     "collapsed": false,
     "input": [
      "# Show the cumulative frequency plot using newly computed word list. Take only the top 50 words\n",
      "new_mp_freqdist.plot(50, cumulative=True)"
     ],
     "language": "python",
     "metadata": {},
     "outputs": [
      {
       "metadata": {},
       "output_type": "display_data",
       "png": "[encoded data removed]",
       "text": [
        "<matplotlib.figure.Figure at 0x10869e810>"
       ]
      }
     ],
     "prompt_number": 6
    },
    {
     "cell_type": "markdown",
     "metadata": {},
     "source": [
      "**Task 7** In the box below, write a list comprehension that users the FreqDist you computed above to find all words in *Monty Python* that are longer than 5 characters long and occur at least 5 times (hint: the text shows how to do a variation of this).  \n",
      "Show the output sorted in alphabetical order."
     ]
    },
    {
     "cell_type": "code",
     "collapsed": false,
     "input": [
      "sorted(word for word in set(text1) if len(word) > 5 and new_mp_freqdist[word] > 5)"
     ],
     "language": "python",
     "metadata": {},
     "outputs": [
      {
       "metadata": {},
       "output_type": "pyout",
       "prompt_number": 7,
       "text": [
        "['Bridge',\n",
        " 'Britons',\n",
        " 'Castle',\n",
        " 'English',\n",
        " 'FRENCH',\n",
        " 'French',\n",
        " 'HERBERT',\n",
        " 'Knight',\n",
        " 'Knights',\n",
        " 'Please',\n",
        " 'afraid',\n",
        " 'angels',\n",
        " 'better',\n",
        " 'castle',\n",
        " 'course',\n",
        " 'dramatic',\n",
        " 'father',\n",
        " 'killed',\n",
        " 'knights',\n",
        " 'nothing',\n",
        " 'people',\n",
        " 'please',\n",
        " 'questions',\n",
        " 'really',\n",
        " 'sacred',\n",
        " 'saying',\n",
        " 'second',\n",
        " 'singing',\n",
        " 'swallow',\n",
        " 'through']"
       ]
      }
     ],
     "prompt_number": 7
    },
    {
     "cell_type": "code",
     "collapsed": false,
     "input": [],
     "language": "python",
     "metadata": {},
     "outputs": []
    }
   ],
   "metadata": {}
  }
 ]
}